{
 "cells": [
  {
   "cell_type": "markdown",
   "id": "bd418512",
   "metadata": {
    "toc": true
   },
   "source": [
    "<h1>Table of Contents<span class=\"tocSkip\"></span></h1>\n",
    "<div class=\"toc\"><ul class=\"toc-item\"><li><span><a href=\"#Objective\" data-toc-modified-id=\"Objective-1\"><span class=\"toc-item-num\">1&nbsp;&nbsp;</span>Objective</a></span></li><li><span><a href=\"#Decision-Tree-Algorithm\" data-toc-modified-id=\"Decision-Tree-Algorithm-2\"><span class=\"toc-item-num\">2&nbsp;&nbsp;</span>Decision Tree Algorithm</a></span><ul class=\"toc-item\"><li><span><a href=\"#Introduction\" data-toc-modified-id=\"Introduction-2.1\"><span class=\"toc-item-num\">2.1&nbsp;&nbsp;</span>Introduction</a></span></li><li><span><a href=\"#How-does-the-Decision-Tree-Algorithm-Work?\" data-toc-modified-id=\"How-does-the-Decision-Tree-Algorithm-Work?-2.2\"><span class=\"toc-item-num\">2.2&nbsp;&nbsp;</span>How does the Decision Tree Algorithm Work?</a></span></li><li><span><a href=\"#Attribute-Selection-Measures\" data-toc-modified-id=\"Attribute-Selection-Measures-2.3\"><span class=\"toc-item-num\">2.3&nbsp;&nbsp;</span>Attribute Selection Measures</a></span><ul class=\"toc-item\"><li><span><a href=\"#Entropy\" data-toc-modified-id=\"Entropy-2.3.1\"><span class=\"toc-item-num\">2.3.1&nbsp;&nbsp;</span>Entropy</a></span></li><li><span><a href=\"#Information-Gain\" data-toc-modified-id=\"Information-Gain-2.3.2\"><span class=\"toc-item-num\">2.3.2&nbsp;&nbsp;</span>Information Gain</a></span></li><li><span><a href=\"#Gain-Ratio\" data-toc-modified-id=\"Gain-Ratio-2.3.3\"><span class=\"toc-item-num\">2.3.3&nbsp;&nbsp;</span>Gain Ratio</a></span></li><li><span><a href=\"#Gini-index\" data-toc-modified-id=\"Gini-index-2.3.4\"><span class=\"toc-item-num\">2.3.4&nbsp;&nbsp;</span>Gini index</a></span></li></ul></li><li><span><a href=\"#Decision-Tree-Pruning\" data-toc-modified-id=\"Decision-Tree-Pruning-2.4\"><span class=\"toc-item-num\">2.4&nbsp;&nbsp;</span>Decision Tree Pruning</a></span><ul class=\"toc-item\"><li><span><a href=\"#Pre-pruning-(Early-Stopping-Rule)\" data-toc-modified-id=\"Pre-pruning-(Early-Stopping-Rule)-2.4.1\"><span class=\"toc-item-num\">2.4.1&nbsp;&nbsp;</span>Pre-pruning (Early Stopping Rule)</a></span></li><li><span><a href=\"#Post-pruning---Grow-the-tree-and-then-trim-it,-replace-subtree-by-leaf-node\" data-toc-modified-id=\"Post-pruning---Grow-the-tree-and-then-trim-it,-replace-subtree-by-leaf-node-2.4.2\"><span class=\"toc-item-num\">2.4.2&nbsp;&nbsp;</span>Post-pruning - Grow the tree and then trim it, replace subtree by leaf node</a></span></li><li><span><a href=\"#Just-some-additional-points\" data-toc-modified-id=\"Just-some-additional-points-2.4.3\"><span class=\"toc-item-num\">2.4.3&nbsp;&nbsp;</span>Just some additional points</a></span></li></ul></li><li><span><a href=\"#Handling-Continuous-value-features-in-Decision-Trees\" data-toc-modified-id=\"Handling-Continuous-value-features-in-Decision-Trees-2.5\"><span class=\"toc-item-num\">2.5&nbsp;&nbsp;</span>Handling Continuous-value features in Decision Trees</a></span><ul class=\"toc-item\"><li><span><a href=\"#Example.-Temperature-in-the-PlayGolf-example\" data-toc-modified-id=\"Example.-Temperature-in-the-PlayGolf-example-2.5.1\"><span class=\"toc-item-num\">2.5.1&nbsp;&nbsp;</span>Example. Temperature in the PlayGolf example</a></span></li></ul></li><li><span><a href=\"#Decision-tree-example\" data-toc-modified-id=\"Decision-tree-example-2.6\"><span class=\"toc-item-num\">2.6&nbsp;&nbsp;</span>Decision tree example</a></span></li></ul></li><li><span><a href=\"#Ensemble-learning\" data-toc-modified-id=\"Ensemble-learning-3\"><span class=\"toc-item-num\">3&nbsp;&nbsp;</span>Ensemble learning</a></span><ul class=\"toc-item\"><li><span><a href=\"#Random-Forest\" data-toc-modified-id=\"Random-Forest-3.1\"><span class=\"toc-item-num\">3.1&nbsp;&nbsp;</span>Random Forest</a></span><ul class=\"toc-item\"><li><span><a href=\"#Random-Forest-example\" data-toc-modified-id=\"Random-Forest-example-3.1.1\"><span class=\"toc-item-num\">3.1.1&nbsp;&nbsp;</span>Random Forest example</a></span></li><li><span><a href=\"#Bagging-example\" data-toc-modified-id=\"Bagging-example-3.1.2\"><span class=\"toc-item-num\">3.1.2&nbsp;&nbsp;</span>Bagging example</a></span></li></ul></li><li><span><a href=\"#AdaBoost-(Adaptive-Boosting)\" data-toc-modified-id=\"AdaBoost-(Adaptive-Boosting)-3.2\"><span class=\"toc-item-num\">3.2&nbsp;&nbsp;</span>AdaBoost (Adaptive Boosting)</a></span><ul class=\"toc-item\"><li><span><a href=\"#AdaBoost-example\" data-toc-modified-id=\"AdaBoost-example-3.2.1\"><span class=\"toc-item-num\">3.2.1&nbsp;&nbsp;</span>AdaBoost example</a></span></li></ul></li><li><span><a href=\"#Gradient-Boosting\" data-toc-modified-id=\"Gradient-Boosting-3.3\"><span class=\"toc-item-num\">3.3&nbsp;&nbsp;</span>Gradient Boosting</a></span><ul class=\"toc-item\"><li><span><a href=\"#Gradient-boosting-example\" data-toc-modified-id=\"Gradient-boosting-example-3.3.1\"><span class=\"toc-item-num\">3.3.1&nbsp;&nbsp;</span>Gradient boosting example</a></span></li></ul></li><li><span><a href=\"#Rewrite-the-code-to-make-it-easier-to-compare\" data-toc-modified-id=\"Rewrite-the-code-to-make-it-easier-to-compare-3.4\"><span class=\"toc-item-num\">3.4&nbsp;&nbsp;</span>Rewrite the code to make it easier to compare</a></span></li><li><span><a href=\"#Chosing-between-Bagging-and-Boosting\" data-toc-modified-id=\"Chosing-between-Bagging-and-Boosting-3.5\"><span class=\"toc-item-num\">3.5&nbsp;&nbsp;</span>Chosing between Bagging and Boosting</a></span></li></ul></li><li><span><a href=\"#LAB-Assignment\" data-toc-modified-id=\"LAB-Assignment-4\"><span class=\"toc-item-num\">4&nbsp;&nbsp;</span>LAB Assignment</a></span><ul class=\"toc-item\"><li><span><a href=\"#Decision-tree\" data-toc-modified-id=\"Decision-tree-4.1\"><span class=\"toc-item-num\">4.1&nbsp;&nbsp;</span>Decision tree</a></span></li><li><span><a href=\"#Random-forest\" data-toc-modified-id=\"Random-forest-4.2\"><span class=\"toc-item-num\">4.2&nbsp;&nbsp;</span>Random forest</a></span></li><li><span><a href=\"#Other-ensemble-learning\" data-toc-modified-id=\"Other-ensemble-learning-4.3\"><span class=\"toc-item-num\">4.3&nbsp;&nbsp;</span>Other ensemble learning</a></span></li><li><span><a href=\"#Questions:\" data-toc-modified-id=\"Questions:-4.4\"><span class=\"toc-item-num\">4.4&nbsp;&nbsp;</span>Questions:</a></span></li></ul></li><li><span><a href=\"#Conclusion\" data-toc-modified-id=\"Conclusion-5\"><span class=\"toc-item-num\">5&nbsp;&nbsp;</span>Conclusion</a></span></li><li><span><a href=\"#References\" data-toc-modified-id=\"References-6\"><span class=\"toc-item-num\">6&nbsp;&nbsp;</span>References</a></span></li></ul></div>"
   ]
  },
  {
   "cell_type": "markdown",
   "id": "bed7efc6",
   "metadata": {},
   "source": [
    "# <center>LAB5 tutorial for Machine Learning <br > Decision Tree and Random Forest</center>\n",
    "\n",
    "> The document description are designed by JIa Yanhong in 2022. Sept. 30th. Modified by Wang Daxing in 2023. Oct. 15th.\n",
    "\n",
    "## Objective\n",
    "\n",
    "- Learn the  Decision Tree algorithm\n",
    "- Learn the Random Forest algorith \n",
    "- Learn other ensemble learning\n",
    "- Complete the LAB assignment and submit it to BB."
   ]
  },
  {
   "cell_type": "markdown",
   "id": "37302be9",
   "metadata": {},
   "source": [
    "## Decision Tree Algorithm\n",
    "### Introduction\n",
    "Decision tree builds classification or regression models in the form of a tree structure.It breaks down a dataset into smaller and smaller subsets while at the same time an associated decision tree is incrementally developed. The final result is a tree with `decision nodes` and `leaf nodes`. \n",
    "\n",
    "Decision Tree is a Supervised learning technique that can be used for both classification and Regression problems, but mostly it is preferred for solving Classification problems. It is a tree-structured classifier, where `internal nodes` represent `the features` of a dataset, `branches` represent the `decision rules` and each `leaf node` represents the `outcome`.\n",
    "\n",
    "<img src=\"images/decision-tree-classification-algorithm.png\" alt=\"Decision Tree Classification Algorithm \" style=\"zoom:100%;\" />\n",
    "<img src=\"images/Decision_Tree_1.png\" alt=\"img  \" style=\"zoom:100%;\" />\n",
    "\n",
    "\n",
    "- A decision node  (e.g., Outlook) has two or more branches (e.g., Sunny, Overcast and Rainy).\n",
    "- A leaf node (e.g., Play) represents a classification or decision. \n",
    "- The topmost decision node in a tree which corresponds to the best predictor called `root node`. \n",
    "Decision trees can handle both categorical and numerical data. \n",
    "\n",
    "### How does the Decision Tree Algorithm Work?\n",
    "\n",
    "The basic idea behind any decision tree algorithm is as follows:\n",
    "1. Select the best attribute using Attribute Selection Measures(ASM) to split the records.\n",
    "2. Make that attribute a decision node and breaks the dataset into smaller subsets.\n",
    "3. Starts tree building by repeating this process recursively for each child until one of the condition will match:\n",
    "   - All the tuples belong to the same attribute value.\n",
    "   - There are no more remaining attributes.\n",
    "   - There are no more instances.\n",
    "\n",
    "![How does the Decision Tree Algorithm Work?](images/2_btay8n.png)\n",
    "\n",
    "### Attribute Selection Measures\n",
    "Attribute selection measure is a technique used for the selecting best attribute for discrimination among tuples. It gives rank to each attribute and the best attribute is selected as splitting criterion.\n",
    "\n",
    "The most popular methods of selection are:\n",
    "\n",
    "1. Entropy\n",
    "2. Information Gain \n",
    "3. Gain Ratio \n",
    "4. Gini Index\n",
    "\n",
    "\n",
    "#### Entropy\n",
    "To understand information gain, we must first be familiar with the concept of entropy.. Entropy $E(S)$ is a measure of the amount of uncertainty in a dataset $S$.\n",
    "$$Entropy(S)=E(S)=-\\sum_{i=1}^{c}p_{i}log_{2}p_{i}$$\n",
    "\n",
    "<img src=\"images/Entropy.png\" alt=\"img  \" style=\"zoom:100%;\" />\n",
    "\n",
    "The entropy is  0 if all samples of a node belong to the same class.\n",
    "The entropy is maximal if we have a uniform class distribution. \n",
    "- <font size=4>a) Entropy using the frequency table of one attribute:</font>\n",
    "\n",
    " <img src=\"images/Entropy_3.png\" alt=\"img  \" style=\"zoom:100%;\" />\n",
    "\n",
    "- <font size=4> b) Entropy using the frequency table of two attributes: </font>\n",
    "$$E(S,a)=\\sum_{v=0}^{V}\\frac{S_{v}}{S}E(S_{v})$$\n",
    "\n",
    "Suppose there are V possible values of the feature or attribute $x$. \n",
    "\n",
    " <img src=\"images/Entropy_2.png\" alt=\"img   \" style=\"zoom:105%;\" />\n",
    "\n"
   ]
  },
  {
   "cell_type": "markdown",
   "id": "6246e38f-54b0-4487-be00-86f27a6bdc64",
   "metadata": {},
   "source": [
    "#### Information Gain\n",
    "The information gain (ID3 )is based on the decrease in entropy after a dataset is split on an attribute.\n",
    "$$Gain(S,a)=E(S)-E(S,a)=E(S)-\\sum_{v=0}^{V}\\frac{S_{v}}{S}E(S_{v})$$\n",
    "> Suppose there are V possible values of the feature or attribute $a$. \n",
    "\n",
    "Constructing a decision tree is all about finding attribute that returns the highest information gain.\n",
    "\n",
    "\n",
    "*Step 1*: Calculate entropy $E(S)$ of the target.   \n",
    "<img src=\"images/Entropy_target.png\" alt=\"img  \" style=\"zoom:100%;\"/>\n",
    "\n",
    "*Step 2*: The dataset is then split on the different attributes. The entropy for each branch is calculated. Then it is added proportionally, to get total entropy for the split. The resulting entropy is subtracted from the entropy before the split. The result is the Information Gain, or decrease in entropy.   \n",
    "<img src=\"images/Entropy_attributes.png\" alt=\"img  \" style=\"zoom:100%;\"/>   \n",
    "$$Gain(S,a)=E(S)-E(S,a)=E(S)-\\sum_{v=0}^{V}\\frac{S_{v}}{S}E(S_{v})$$ $$Gain(PlayGolf,Outlook)=E(PlayGolf)-E(PlayGolf,Outlook)=0.940-0.693=0.247$$\n",
    "\n",
    "*Step 3*: Choose attribute with the largest information gain as the decision node, divide the dataset by its branches and repeat the same process on every branch.   \n",
    "<img src=\"images/Entropy_attribute_best.png\" alt=\"img \" style=\"zoom:100%;\"/>   \n",
    "<img src=\"images/decision_tree_slices.png\" alt=\"img \" style=\"zoom:100%;\"/>\n",
    "\n",
    "*Step 4a*: A branch with entropy of 0 is a leaf node.   \n",
    "![img](images/Entropy_overcast.png)\n",
    "\n",
    "*Step 4b*: A branch with entropy more than 0 needs further splitting.   \n",
    "![img](images/Entropy_Sunny.png)\n",
    "\n",
    "*Step 5*: The ID3 algorithm is run recursively on the non-leaf branches, until all data is classified.   \n",
    "![img](images/Decision_rules.png)"
   ]
  },
  {
   "cell_type": "markdown",
   "id": "5cabfd0c",
   "metadata": {},
   "source": [
    "#### Gain Ratio\n",
    "Information gain is biased for the attribute with many outcomes. It means it prefers the attribute with a large number of distinct values. For instance, consider an attribute with a unique identifier such as `customer_ID` has zero info(D) because of pure partition. This maximizes the information gain and creates useless partitioning. \n",
    "\n",
    "`The gain ratio` is the modification of information gain. It takes into account the number and size of branches when choosing an attribute. \n",
    "$$Gain_{ratio}(S,a)=\\frac{Gain(S,a)}{IV(a)}$$ where $$IV(a)=-\\sum_{v=1}^V\\frac{|S^v|}{|S|}log_2\\frac{|S^v|}{|S|}$$ is called 'intrinsic value'.\n"
   ]
  },
  {
   "cell_type": "markdown",
   "id": "5fdeba22",
   "metadata": {},
   "source": [
    "#### Gini index\n",
    "Another decision tree algorithm CART (Classification and Regression Tree) uses the Gini method to create split points.\n",
    "$$Gini(S)=1-\\sum_{i=1}^{C}p_{i}^{2}$$\n",
    "$$Gini(S,a)=\\sum_{v=1}^{V}\\frac{S_{v}}{S}Gini(S_{v}) $$\n",
    "Gini impurity is more computationally efficient than entropy.\n",
    "\n"
   ]
  },
  {
   "cell_type": "markdown",
   "id": "e9bc76bf",
   "metadata": {},
   "source": [
    "### Decision Tree Pruning\n",
    "Decision Trees are prone to over-fitting. A decision tree will always overfit the training data if we allow it to grow to its max depth. One of the techniques you can use to reduce overfitting in decision trees is pruning.\n",
    "\n",
    "\n",
    "There are two types of pruning: Pre-pruning and Post-pruning. \n",
    "#### Pre-pruning (Early Stopping Rule)\n",
    "The hyperparameters that can be tuned for early stopping and preventing overfitting are:\n",
    "\n",
    "\n",
    "- Minimum no. of sample present in nodes\n",
    "- Maximum Depth\n",
    "- Maximum no. of nodes\n",
    "- Preset Gini Index, Information gain is fixed, which if violated the tree isn’t split further\n",
    "\n",
    "These same parameters can also be used to tune to get a robust model. However, you should be cautious as early stopping can also lead to underfitting.\n",
    "\n",
    "#### Post-pruning - Grow the tree and then trim it, replace subtree by leaf node\n",
    "\n",
    "- Reduced Error Pruning :\n",
    "  1. Holdout some instances from training data\n",
    "  2. Calculate misclassification for each of holdout set using the decision tree created\n",
    "  3. Pruning is done if parent node has errors lesser than child node\n",
    "- Cost Complexity or Weakest Link Pruning\n",
    "\n",
    "The hyperparameter that can be tuned for post-pruning and preventing overfitting is: `ccp_alpha`\n",
    "\n",
    "`ccp` stands for Cost Complexity Pruning and can be used as another option to control the size of a tree. A higher value of `ccp_alpha` will lead to an increase in the number of nodes pruned.\n",
    "\n",
    "#### Just some additional points\n",
    "\n",
    "- Both are Regularization methods in Decision Trees.\n",
    "- Pre pruning is faster then Post pruning\n",
    "- Pre pruning goes top to bottom, while post pruning goes bottom up approach"
   ]
  },
  {
   "cell_type": "markdown",
   "id": "156f1d84",
   "metadata": {},
   "source": [
    "### Handling Continuous-value features in Decision Trees\n",
    "For Continuous-value features we sort the data with respect to the same attribute. Then we try to divide the data into two parts and calculate the `entropy` for the split. For dividing we consider place split points halfway between values. \n",
    "#### Example. Temperature in the PlayGolf example\n",
    "- Sort the examples according to Temperature\n",
    "- Place split points halfway between values\n",
    "\n",
    "$$T_{a}= \\left \\{ \\frac{a^{i}+a^{i+1}}{2}\\ | 1\\leq i\\leq n-1 \\right \\}$$\n",
    "  \n",
    "<img src=\"images/image-20221001232603940.png\" alt=\"image-20221001232603940 \" style=\"zoom:80%;\" />\n",
    "\n",
    "\\begin{aligned} \n",
    "e.g: \n",
    "temperature \\leq 71.5: yes/4,no/2 \\\\\n",
    "temperature \\geq  71.5: yes/5,no/3 \\\\\n",
    "\\end{aligned}\n",
    "\n",
    "- Calculate information gain of candidate split points. Then select the split point based on the information gain.\n",
    "  \\begin{aligned} \n",
    "Gain(S,a)&=maxGain(S,a,t) \\\\\n",
    "&=max(E(S)-E(S,a,t))\\\\\n",
    "&=E(S)-minE(S,a,t)\\\\\n",
    "&=E(S)-min(\\sum_{\\lambda\\epsilon {-,+}}\\frac{S_{t}}{S}E(S_{t}))\n",
    "\\end{aligned}\n",
    "  \n",
    "  $$e.g:E(Play,Temperature,71.5)=\\frac{6}{14}E(4,2)+\\frac{8}{14}E(5,3)=0.939$$\n"
   ]
  },
  {
   "cell_type": "markdown",
   "id": "aa975cf5",
   "metadata": {},
   "source": [
    "### Decision tree example"
   ]
  },
  {
   "cell_type": "code",
   "execution_count": 65,
   "id": "bb961ca7",
   "metadata": {},
   "outputs": [
    {
     "data": {
      "image/png": "[encoded data removed]",
      "text/plain": [
       "<Figure size 640x480 with 1 Axes>"
      ]
     },
     "metadata": {},
     "output_type": "display_data"
    }
   ],
   "source": [
    "import numpy as np\n",
    "import matplotlib.pyplot as plt\n",
    "from sklearn.datasets import make_moons\n",
    "from sklearn.model_selection import train_test_split\n",
    "\n",
    "# Get Data Set\n",
    "X, y = make_moons(n_samples=1000, noise=.5, random_state=0)\n",
    "\n",
    "plt.scatter(X[y==0, 0], X[y==0, 1])\n",
    "plt.scatter(X[y==1, 0], X[y==1, 1])\n",
    "plt.show()\n",
    "\n",
    "X_train, X_test, y_train, y_test = train_test_split(X, y,test_size=0.3,random_state=123,shuffle=True,stratify=y)\n"
   ]
  },
  {
   "cell_type": "code",
   "execution_count": 66,
   "id": "e9f94b06",
   "metadata": {},
   "outputs": [],
   "source": [
    "from sklearn.tree import DecisionTreeClassifier\n",
    "\n",
    "# Define Algorithm \n",
    "tree = DecisionTreeClassifier(random_state=123)\n"
   ]
  },
  {
   "cell_type": "code",
   "execution_count": 67,
   "id": "f61b2751",
   "metadata": {},
   "outputs": [
    {
     "name": "stdout",
     "output_type": "stream",
     "text": [
      "Average Expected Loss: 0.2487n\n",
      "Average Bias: 0.2467\n",
      "Average Variance: 0.13\n"
     ]
    }
   ],
   "source": [
    "from mlxtend.evaluate import bias_variance_decomp\n",
    "# Get Bias and Variance - bias_variance_decomp function\n",
    "avg_expected_loss, avg_bias, avg_var = bias_variance_decomp(tree, X_train, y_train, X_test, y_test, loss='0-1_loss',random_seed=123,num_rounds=10)\n",
    "# Display Bias and Variance\n",
    "print(f'Average Expected Loss: {round(avg_expected_loss, 4)}n')\n",
    "print(f'Average Bias: {round(avg_bias, 4)}')\n",
    "print(f'Average Variance: {round(avg_var, 4)}')"
   ]
  },
  {
   "cell_type": "markdown",
   "id": "e7f46e2e",
   "metadata": {},
   "source": [
    "The `mlxtend` library is used here, for more detail: http://rasbt.github.io/mlxtend/\n",
    "> Note: Install `mlxtend` library with PIP before use."
   ]
  },
  {
   "cell_type": "code",
   "execution_count": 68,
   "id": "25f2978d",
   "metadata": {},
   "outputs": [
    {
     "data": {
      "text/plain": [
       "0.7333333333333333"
      ]
     },
     "execution_count": 68,
     "metadata": {},
     "output_type": "execute_result"
    }
   ],
   "source": [
    "from sklearn.metrics import accuracy_score\n",
    "tree.fit(X_train,y_train)\n",
    "y_pred = tree.predict(X_test)\n",
    "accuracy_score(y_test, y_pred)"
   ]
  },
  {
   "cell_type": "code",
   "execution_count": 69,
   "id": "5707c3be",
   "metadata": {},
   "outputs": [
    {
     "data": {
      "image/png": "[encoded data removed]",
      "text/plain": [
       "<Figure size 640x480 with 1 Axes>"
      ]
     },
     "metadata": {},
     "output_type": "display_data"
    }
   ],
   "source": [
    "from mlxtend.plotting import plot_decision_regions\n",
    "plot_decision_regions(X_train, y_train, clf=tree)\t\n",
    "plt.title('Decision Tree Classifier')\t\n",
    "plt.show()\t\n",
    "\n"
   ]
  },
  {
   "cell_type": "markdown",
   "id": "e66e1e7c",
   "metadata": {},
   "source": [
    "## Ensemble learning\n",
    "The Decision Tree is among the most fundamental but widely-used machine learning algorithms. However, one tree alone is usually not the best choice of data practitioners, especially when the model performance is highly regarded. Instead, an ensemble of trees would be of more interest. By combining individual models, the ensemble model tends to be more flexible🤸‍♀️ (less bias) and less data-sensitive🧘‍♀️ (less variance).\n",
    "\n",
    "Two most popular ensemble methods are bagging and boosting.\n",
    "- **Bagging:** Training a bunch of individual models in a parallel way. Each model is trained by a random subset of the data\n",
    "- **Boosting:** Training a bunch of individual models in a sequential way. Each individual model learns from mistakes made by the previous model.\n",
    "\n",
    "<img src=\"images/bagging-boosting.png\" alt=\"img \" style=\"zoom:100%;\" />\n",
    "\n",
    "With a basic understanding of what ensemble learning is, let’s grow some “trees” 🎄.\n",
    "\n",
    "The following content will cover step by step explanation on Random Forest, AdaBoost, and Gradient Boosting, and their implementation in Python Sklearn.\n",
    "\n",
    " "
   ]
  },
  {
   "cell_type": "markdown",
   "id": "acd02bb4",
   "metadata": {},
   "source": [
    "### Random Forest\n",
    "\n",
    "Random forest is an ensemble model using bagging as the ensemble method and decision tree as the individual model.\n",
    "\n",
    "Let’s take a closer look at **the magic🔮 of the randomness**:\n",
    "\n",
    "<img src=\"images/randomforest.png\" alt=\"img \" style=\"zoom:100%;\" />\n",
    "\n",
    "Step 1: **Select n (e.g. 1000) random subsets** from the training set\n",
    "\n",
    "Step 2: **Train n (e.g. 1000) decision trees**\n",
    "\n",
    "- one random subset is used to train one decision tree\n",
    "- the optimal splits for each decision tree are based on a random subset of samples  or features (e.g. 10 features in total, randomly select 5 out of 10 features to split)\n",
    "\n",
    "Step 3: **Each individual tree predicts** the records in the test set, independently.\n",
    "\n",
    "Step 4: **Make the final prediction**\n",
    "\n",
    "For each candidate in the test set, Random Forest uses the class (e.g. cat or dog) with the **majority vote** as this candidate’s final prediction.\n",
    "\n",
    "Of course, our 1000 trees are the parliament here.\n",
    "\n"
   ]
  },
  {
   "cell_type": "markdown",
   "id": "4d3134f8",
   "metadata": {},
   "source": [
    "#### Random Forest example"
   ]
  },
  {
   "cell_type": "code",
   "execution_count": 70,
   "id": "1dce93f3",
   "metadata": {},
   "outputs": [
    {
     "data": {
      "text/plain": [
       "0.7933333333333333"
      ]
     },
     "execution_count": 70,
     "metadata": {},
     "output_type": "execute_result"
    }
   ],
   "source": [
    "from sklearn.ensemble  import RandomForestClassifier\n",
    "\n",
    "# Define Algorithm \n",
    "# Fit a Random Forest model, \" compared to \"Decision Tree model, accuracy go up by 5%\n",
    "clf = RandomForestClassifier(n_estimators=100,random_state=0)\n",
    "clf.fit(X_train, y_train)\n",
    "y_pred = clf.predict(X_test)\n",
    "accuracy_score(y_test, y_pred)\n"
   ]
  },
  {
   "cell_type": "code",
   "execution_count": 71,
   "id": "dc1ace2e",
   "metadata": {},
   "outputs": [
    {
     "name": "stdout",
     "output_type": "stream",
     "text": [
      "Average Expected Loss: 0.207n\n",
      "Average Bias: 0.2033\n",
      "Average Variance: 0.0757\n"
     ]
    }
   ],
   "source": [
    "from mlxtend.evaluate import bias_variance_decomp\n",
    "# Get Bias and Variance - bias_variance_decomp function\n",
    "avg_expected_loss, avg_bias, avg_var = bias_variance_decomp(clf, X_train, y_train, X_test, y_test, loss='0-1_loss',random_seed=123,num_rounds=10)\n",
    "# Display Bias and Variance\n",
    "print(f'Average Expected Loss: {round(avg_expected_loss, 4)}n')\n",
    "print(f'Average Bias: {round(avg_bias, 4)}')\n",
    "print(f'Average Variance: {round(avg_var, 4)}')"
   ]
  },
  {
   "cell_type": "markdown",
   "id": "16851e54",
   "metadata": {},
   "source": [
    "#### Bagging example"
   ]
  },
  {
   "cell_type": "code",
   "execution_count": 72,
   "id": "30d30687",
   "metadata": {},
   "outputs": [
    {
     "data": {
      "text/plain": [
       "0.7866666666666666"
      ]
     },
     "execution_count": 72,
     "metadata": {},
     "output_type": "execute_result"
    }
   ],
   "source": [
    "from mlxtend.evaluate import bias_variance_decomp\n",
    "from sklearn.tree import DecisionTreeClassifier\n",
    "\n",
    "from sklearn.model_selection import train_test_split\n",
    "from sklearn.ensemble import BaggingClassifier\n",
    "\n",
    "# Define Algorithm \n",
    "tree = DecisionTreeClassifier(random_state=123)\n",
    "bag = BaggingClassifier(estimator=tree,n_estimators=100,random_state=123)\n",
    "bag.fit(X_train, y_train)\n",
    "y_pred = bag.predict(X_test)\n",
    "accuracy_score(y_test, y_pred)"
   ]
  },
  {
   "cell_type": "code",
   "execution_count": 73,
   "id": "c97c4d26",
   "metadata": {},
   "outputs": [
    {
     "name": "stdout",
     "output_type": "stream",
     "text": [
      "Average Expected Loss: 0.2257n\n",
      "Average Bias: 0.23\n",
      "Average Variance: 0.0883\n"
     ]
    }
   ],
   "source": [
    "\n",
    "\n",
    "# Get Bias and Variance - bias_variance_decomp function\n",
    "avg_expected_loss, avg_bias, avg_var = bias_variance_decomp(bag, X_train, y_train, X_test, y_test, loss='0-1_loss',random_seed=123,num_rounds=10)\n",
    "# Display Bias and Variance\n",
    "print(f'Average Expected Loss: {round(avg_expected_loss, 4)}n')\n",
    "print(f'Average Bias: {round(avg_bias, 4)}')\n",
    "print(f'Average Variance: {round(avg_var, 4)}')"
   ]
  },
  {
   "cell_type": "markdown",
   "id": "d26a8808",
   "metadata": {},
   "source": [
    "### AdaBoost (Adaptive Boosting)\n",
    "\n",
    "AdaBoost is a boosting ensemble model and works especially well with the decision tree. Boosting model’s key is learning from the previous mistakes, e.g. misclassification data points.\n",
    "\n",
    "AdaBoost learns from the mistakes by increasing the weight of misclassified data points.\n",
    "\n",
    "Let’s illustrate **how AdaBoost adapts**.\n",
    "\n",
    "![img](images/adaboost.png)\n",
    "\n",
    "- Step 0: **Initialize the weights** of data points. if the training set has 100 data points, then each point’s initial weight should be 1/100 = 0.01.\n",
    "\n",
    "- Step 1: **Train** a decision tree\n",
    "\n",
    "- Step 2: **Calculate the weighted error rate (e)** of the decision tree. **The weighted error rate (e)** is just how many wrong predictions out of total and you treat the wrong predictions differently based on its data point’s weight. **The higher the weight**, **the more the corresponding error will be weighted** during the calculation of the (e).\n",
    "\n",
    "- Step 3: **Calculate this decision tree’s weight** in the ensemble. The weight of this tree is `0.5 * log( (1 — e) / e)`\n",
    "\n",
    "  - the higher weighted error rate of a tree, 😫, the less decision power the tree will be given during the later voting\n",
    "\n",
    "  - the lower weighted error rate of a tree, 😃, the higher decision power the tree will be given during the later voting\n",
    "\n",
    "- Step 4: **Update weights** of wrongly classified points. The weight of each data point :\n",
    "\n",
    "  - if the model got this data point correct, the new weight of this point = old weight * np.exp(-weight of this tree)\n",
    "\n",
    "  - if the model got this data point wrong, the new weight of this point = old weight * np.exp(weight of this tree)\n",
    "\n",
    "    \n",
    "\n",
    ">  **Note**: The higher the weight of the tree (more accurate this tree performs), the more boost (importance) the misclassified data point by this tree will get. The weights of the data points are normalized after all the misclassified points are updated.\n",
    "\n",
    "\n",
    "\n",
    "- Step 5: **Repeat** Step 1(until the number of trees we set to train is reached)\n",
    "- Step 6: **Make the final prediction**\n",
    "\n",
    "The AdaBoost makes a new prediction by adding up the weight (of each tree) multiply the prediction (of each tree). Obviously, the tree with higher weight will have more power of influence the final decision.\n",
    "\n",
    "![img](images/adaboot2.png)\n",
    "\n"
   ]
  },
  {
   "cell_type": "markdown",
   "id": "718df043",
   "metadata": {},
   "source": [
    "#### AdaBoost example"
   ]
  },
  {
   "cell_type": "code",
   "execution_count": 74,
   "id": "1a5fbcd3",
   "metadata": {},
   "outputs": [
    {
     "data": {
      "text/plain": [
       "0.8133333333333334"
      ]
     },
     "execution_count": 74,
     "metadata": {},
     "output_type": "execute_result"
    }
   ],
   "source": [
    "from sklearn.ensemble  import AdaBoostClassifier\n",
    "\n",
    "#  Fit a AdaBoost model, \" compared to \"Decision Tree model, accuracy go up by 10%\n",
    "clf = AdaBoostClassifier(n_estimators=100)\n",
    "clf.fit(X_train, y_train)\n",
    "y_pred = clf.predict(X_test)\n",
    "accuracy_score(y_test, y_pred)\n"
   ]
  },
  {
   "cell_type": "code",
   "execution_count": 75,
   "id": "eb60d58b",
   "metadata": {},
   "outputs": [
    {
     "name": "stdout",
     "output_type": "stream",
     "text": [
      "Average Expected Loss: 0.2063n\n",
      "Average Bias: 0.1933\n",
      "Average Variance: 0.0763\n"
     ]
    }
   ],
   "source": [
    "from mlxtend.evaluate import bias_variance_decomp\n",
    "# Get Bias and Variance - bias_variance_decomp function\n",
    "avg_expected_loss, avg_bias, avg_var = bias_variance_decomp(clf, X_train, y_train, X_test, y_test, loss='0-1_loss',random_seed=123,num_rounds=10)\n",
    "# Display Bias and Variance\n",
    "print(f'Average Expected Loss: {round(avg_expected_loss, 4)}n')\n",
    "print(f'Average Bias: {round(avg_bias, 4)}')\n",
    "print(f'Average Variance: {round(avg_var, 4)}')"
   ]
  },
  {
   "cell_type": "markdown",
   "id": "648193c6",
   "metadata": {},
   "source": [
    "### Gradient Boosting\n",
    "\n",
    "Gradient boosting is another boosting model. Remember, boosting model’s key is learning from the previous mistakes.\n",
    "\n",
    "Gradient Boosting learns from the mistake — residual error directly, rather than update the weights of data points.\n",
    "\n",
    "Let’s illustrate **how Gradient Boost learns.**\n",
    "\n",
    "![img](images/gradient-boost.png)\n",
    "\n",
    "- Step 1: T**rain** a decision tree\n",
    "- Step 2: **Apply** the decision tree just trained to predict\n",
    "- Step 3: **Calculate** the residual of this decision tree, Save residual errors as the new y\n",
    "- Step 4: **Repeat** Step 1 (until the number of trees we set to train is reached)\n",
    "- Step 5: **Make the final prediction**\n",
    "\n",
    "The Gradient Boosting makes a new prediction by simply adding up the predictions (of all trees).\n",
    "\n",
    "![img](images/gradient-boost2.png)"
   ]
  },
  {
   "cell_type": "markdown",
   "id": "8140661d",
   "metadata": {},
   "source": [
    "#### Gradient boosting example\n"
   ]
  },
  {
   "cell_type": "code",
   "execution_count": 76,
   "id": "6a763e1a",
   "metadata": {},
   "outputs": [
    {
     "data": {
      "text/plain": [
       "0.8033333333333333"
      ]
     },
     "execution_count": 76,
     "metadata": {},
     "output_type": "execute_result"
    }
   ],
   "source": [
    "from sklearn.ensemble import GradientBoostingClassifier\n",
    "\n",
    "#  Fit a Gradient Boosting model, \" compared to \"Decision Tree model, accuracy go up by 10%\n",
    "clf = GradientBoostingClassifier(n_estimators=100)\n",
    "clf.fit(X_train, y_train)\n",
    "y_pred = clf.predict(X_test)\n",
    "accuracy_score(y_test, y_pred)\n"
   ]
  },
  {
   "cell_type": "code",
   "execution_count": 77,
   "id": "6b421293",
   "metadata": {},
   "outputs": [
    {
     "name": "stdout",
     "output_type": "stream",
     "text": [
      "Average Expected Loss: 0.1957n\n",
      "Average Bias: 0.1833\n",
      "Average Variance: 0.0657\n"
     ]
    }
   ],
   "source": [
    "from mlxtend.evaluate import bias_variance_decomp\n",
    "# Get Bias and Variance - bias_variance_decomp function\n",
    "avg_expected_loss, avg_bias, avg_var = bias_variance_decomp(clf, X_train, y_train, X_test, y_test, loss='0-1_loss',random_seed=123,num_rounds=10)\n",
    "# Display Bias and Variance\n",
    "print(f'Average Expected Loss: {round(avg_expected_loss, 4)}n')\n",
    "print(f'Average Bias: {round(avg_bias, 4)}')\n",
    "print(f'Average Variance: {round(avg_var, 4)}')"
   ]
  },
  {
   "cell_type": "markdown",
   "id": "ae6713c5",
   "metadata": {},
   "source": [
    "### Rewrite the code to make it easier to compare"
   ]
  },
  {
   "cell_type": "code",
   "execution_count": 78,
   "id": "b9b3569a",
   "metadata": {},
   "outputs": [],
   "source": [
    "# Load Library\n",
    "from sklearn.datasets import make_moons\n",
    "from sklearn.metrics import accuracy_score\n",
    "from sklearn.model_selection import train_test_split\n",
    "from sklearn.tree import DecisionTreeClassifier\n",
    "from sklearn.ensemble import RandomForestClassifier,AdaBoostClassifier,GradientBoostingClassifier"
   ]
  },
  {
   "cell_type": "code",
   "execution_count": 79,
   "id": "42ecd2c1",
   "metadata": {},
   "outputs": [],
   "source": [
    "# Step1: Create data set\n",
    "X, y = make_moons(n_samples=10000, noise=.5, random_state=0)\n"
   ]
  },
  {
   "cell_type": "code",
   "execution_count": 80,
   "id": "618c4a84",
   "metadata": {},
   "outputs": [],
   "source": [
    "# Step2: Split the training test set\n",
    "X_train, X_test, y_train, y_test = train_test_split(X, y, test_size=0.2, random_state=42)\n"
   ]
  },
  {
   "cell_type": "code",
   "execution_count": 81,
   "id": "61df5e90",
   "metadata": {},
   "outputs": [
    {
     "data": {
      "text/plain": [
       "0.7545"
      ]
     },
     "execution_count": 81,
     "metadata": {},
     "output_type": "execute_result"
    }
   ],
   "source": [
    "# Step 3: Fit a Decision Tree model as comparison\n",
    "clf = DecisionTreeClassifier()\n",
    "clf.fit(X_train, y_train)\n",
    "y_pred = clf.predict(X_test)\n",
    "accuracy_score(y_test, y_pred)\n",
    "#OUTPUT: 0.756\n"
   ]
  },
  {
   "cell_type": "code",
   "execution_count": 82,
   "id": "d044becd",
   "metadata": {},
   "outputs": [
    {
     "data": {
      "text/plain": [
       "0.7965"
      ]
     },
     "execution_count": 82,
     "metadata": {},
     "output_type": "execute_result"
    }
   ],
   "source": [
    "# Step 4: Fit a Random Forest model, \" compared to \"Decision Tree model, accuracy go up by 5%\n",
    "clf = RandomForestClassifier(n_estimators=100,random_state=0)\n",
    "clf.fit(X_train, y_train)\n",
    "y_pred = clf.predict(X_test)\n",
    "accuracy_score(y_test, y_pred)\n",
    "#OUTPUT: 0.797\n"
   ]
  },
  {
   "cell_type": "code",
   "execution_count": 83,
   "id": "e4da0861",
   "metadata": {},
   "outputs": [
    {
     "data": {
      "text/plain": [
       "0.833"
      ]
     },
     "execution_count": 83,
     "metadata": {},
     "output_type": "execute_result"
    }
   ],
   "source": [
    "# Step 5: Fit a AdaBoost model, \" compared to \"Decision Tree model, accuracy go up by 10%\n",
    "clf = AdaBoostClassifier(n_estimators=100)\n",
    "clf.fit(X_train, y_train)\n",
    "y_pred = clf.predict(X_test)\n",
    "accuracy_score(y_test, y_pred)\n",
    "#OUTPUT:0.833\n"
   ]
  },
  {
   "cell_type": "code",
   "execution_count": 84,
   "id": "3a39235f",
   "metadata": {},
   "outputs": [
    {
     "data": {
      "text/plain": [
       "0.8335"
      ]
     },
     "execution_count": 84,
     "metadata": {},
     "output_type": "execute_result"
    }
   ],
   "source": [
    "# Step 6: Fit a Gradient Boosting model, \" compared to \"Decision Tree model, accuracy go up by 10%\n",
    "clf = GradientBoostingClassifier(n_estimators=100)\n",
    "clf.fit(X_train, y_train)\n",
    "y_pred = clf.predict(X_test)\n",
    "accuracy_score(y_test, y_pred)\n",
    "#OUTPUT:0.834\n"
   ]
  },
  {
   "cell_type": "markdown",
   "id": "eebfc7e9",
   "metadata": {},
   "source": [
    "Note: Parameter - n_estimators stands for how many tree we want to grow"
   ]
  },
  {
   "cell_type": "markdown",
   "id": "a8547219",
   "metadata": {},
   "source": [
    "### Chosing between Bagging and Boosting\n",
    "It depends on the data and also the base model that you choose. In general, if the single model has the issue of overfitting, bagging would be a better choice because it decreases the model variance. If the single model has low performance, you should consider boosting to boost up the accuracy."
   ]
  },
  {
   "cell_type": "markdown",
   "id": "c380438e",
   "metadata": {},
   "source": [
    "## LAB Assignment  \n",
    "This lab introduces classical machine learning algorithms, decision trees (DTs) and their ensemble learning (e.g., Random Forests). Decision trees are important non-parameter learning methods. Although DTs are simple and limited, they still can achieve excellent performance using ensemble learning schemes.\n",
    "\n",
    "For this lab assignment, we'll use the algorithms we've learned today to fit the model and evaluate the model’s prediction performance. The scikit-learn package will be used to save your time.\n",
    "\n",
    "\n",
    "### Decision tree\n",
    "- <font size=4>Step 1. load iris dataset </font>\n",
    "\n",
    "Datasets: First, we load the scikit-learn iris toy dataset ."
   ]
  },
  {
   "cell_type": "code",
   "execution_count": 85,
   "id": "f4c54139",
   "metadata": {},
   "outputs": [],
   "source": [
    "import numpy as np\n",
    "import matplotlib.pyplot as plt\n",
    "\n",
    "from sklearn import datasets\n",
    "iris = datasets.load_iris()"
   ]
  },
  {
   "cell_type": "markdown",
   "id": "3cae61bd",
   "metadata": {},
   "source": [
    "- <font size=4> Step 2. Define the features and the target </font>"
   ]
  },
  {
   "cell_type": "code",
   "execution_count": 86,
   "id": "b7821f8f",
   "metadata": {},
   "outputs": [],
   "source": [
    "X = iris.data[:,2:]\n",
    "y = iris.target"
   ]
  },
  {
   "cell_type": "markdown",
   "id": "c1f214de",
   "metadata": {},
   "source": [
    "- <font size=4> Step 3. Visualization </font>\n",
    "  \n",
    "    We need to use proper visualization methods to have an intuitive understanding.\n",
    "\n",
    "    For visualization, only the last 2 attributes are used.\n"
   ]
  },
  {
   "cell_type": "code",
   "execution_count": 87,
   "id": "d55e229e",
   "metadata": {},
   "outputs": [
    {
     "data": {
      "image/png": "[encoded data removed]",
      "text/plain": [
       "<Figure size 640x480 with 1 Axes>"
      ]
     },
     "metadata": {},
     "output_type": "display_data"
    }
   ],
   "source": [
    "plt.scatter(X[y==0, 0], X[y==0, 1])\n",
    "plt.scatter(X[y==1, 0], X[y==1, 1])\n",
    "plt.scatter(X[y==2, 0], X[y==2, 1])\n",
    "plt.show()"
   ]
  },
  {
   "cell_type": "code",
   "execution_count": 88,
   "id": "ff04fd22-a7b9-4eb4-a4f0-45a60f2b2436",
   "metadata": {},
   "outputs": [],
   "source": [
    "########### Write Your Code Here ###########\n",
    "\n",
    "############################################"
   ]
  },
  {
   "cell_type": "markdown",
   "id": "323138bd",
   "metadata": {},
   "source": [
    "- <font size=4> Step 4. Preprocessing data </font>\n",
    "Please check whether the data needs to be preprocessed"
   ]
  },
  {
   "cell_type": "code",
   "execution_count": 89,
   "id": "dd936db9",
   "metadata": {},
   "outputs": [],
   "source": [
    "########### Write Your Code Here ###########\n",
    "\n",
    "############################################"
   ]
  },
  {
   "cell_type": "markdown",
   "id": "069a4331",
   "metadata": {},
   "source": [
    "- <font size=4> Step 5. Split the dataset into train and test sets </font>\n",
    "  \n",
    " Now we divide the whole dataset into a training set and a test set using the the scikit-learn model_selection module."
   ]
  },
  {
   "cell_type": "code",
   "execution_count": 90,
   "id": "917b0ce2",
   "metadata": {},
   "outputs": [],
   "source": [
    "########### Write Your Code Here ###########\n",
    "\n",
    "############################################"
   ]
  },
  {
   "cell_type": "markdown",
   "id": "38d565df",
   "metadata": {},
   "source": [
    "- <font size=4> Step 6. Explore the model parameters </font>\n",
    "  \n",
    "Decision trees are quite easy to use, but they are prone to overfit the training data. Actually almost all the non-parameter learning methods suffer from this problem. We can use pruning to optimize our trained decision trees; we can also adjust the super parameters to avoid overfitting.\n",
    "\n",
    "    The decision tree model  given by the `SkLearn`  is as follows:\n",
    "\n",
    "    ```python\n",
    "    DecisionTreeClassifier(criterion='gini', splitter='best', max_depth=None, min_samples_split=2, min_samples_leaf=1, min_weight_fraction_leaf=0.0, max_features=None, random_state=None, max_leaf_nodes=None, min_impurity_decrease=0.0, class_weight=None, ccp_alpha=0.0)\n",
    "    ```\n",
    "    There are so many arguments and they are all helpful in adjusting the algorithm parameters to achieve the balance between bias and variance.  \n",
    "    Adjust these parameters: `criterion`,`max_depth`, `min_samples_leaf`,  `min_samples_split` , `max_leaf_nodes `,`min_impurity_split `\n",
    "    and explain how it affects the bias and variance of the classification results. \n",
    "\n",
    "\n",
    "\n",
    "\n",
    "\n"
   ]
  },
  {
   "cell_type": "code",
   "execution_count": 91,
   "id": "36708436",
   "metadata": {},
   "outputs": [],
   "source": [
    "########### Write Your Code Here ###########\n",
    "\n",
    "############################################"
   ]
  },
  {
   "cell_type": "markdown",
   "id": "126c2d7a",
   "metadata": {},
   "source": [
    "    Finally, select the best set of parameters for the following steps."
   ]
  },
  {
   "cell_type": "markdown",
   "id": "e02a8954",
   "metadata": {},
   "source": [
    "- <font size=4> Step 7. Use the model of your choice on the test set </font>\n"
   ]
  },
  {
   "cell_type": "code",
   "execution_count": 92,
   "id": "a8463770",
   "metadata": {},
   "outputs": [],
   "source": [
    "########### Write Your Code Here ###########\n",
    "\n",
    "############################################"
   ]
  },
  {
   "cell_type": "markdown",
   "id": "cf2ce1a6",
   "metadata": {},
   "source": [
    "- <font size=4> Step 8. Evaluate the model </font>"
   ]
  },
  {
   "cell_type": "code",
   "execution_count": 93,
   "id": "cfe1a334",
   "metadata": {},
   "outputs": [],
   "source": [
    "########### Write Your Code Here ###########\n",
    "\n",
    "############################################"
   ]
  },
  {
   "cell_type": "markdown",
   "id": "ccb79fce",
   "metadata": {},
   "source": [
    "- <font size=4> Step 9. Visual decision boundary and generated decision tree </font>"
   ]
  },
  {
   "cell_type": "code",
   "execution_count": 94,
   "id": "f04d5ebe",
   "metadata": {},
   "outputs": [],
   "source": [
    "########### Write Your Code Here ###########\n",
    "\n",
    "############################################"
   ]
  },
  {
   "cell_type": "markdown",
   "id": "acbf4b92",
   "metadata": {},
   "source": [
    "### Random forest\n",
    "\n",
    "In this section, you are required to use random forests for classification. Thus, in `scikit-learn`, there are two ways to implement a random forset, from the Bagging view and from the RF view.<br>\n",
    "Classify `iris`  using `BaggingClassifier( )` and `RandomForestClassifier( )` respectively, \n",
    "\n",
    "- <font color=blue >**RF view:**</font> we construct a RF class directly.\n",
    "  \n",
    "```python\n",
    "# Use Random Forest directly\n",
    "\n",
    "from sklearn.ensemble import RandomForestClassifier\n",
    "\n",
    "rf_clf = RandomForestClassifier(n_estimators=300,\n",
    "                                random_state=666, # random attributes subset\n",
    "                                oob_score=True,\n",
    "                                # n_jobs=-1\n",
    "                               )\n",
    "rf_clf.fit(X,y)\n",
    "```\n",
    "\n",
    "- <font color=blue face=雅黑>**Bagging view:**</font>  we use the bagging algorithm with a number of base learning algorithms of decision trees.\n",
    "  \n",
    "```python\n",
    "# Use Random Forest from Bagging view\n",
    "\n",
    "from sklearn.ensemble import BaggingClassifier\n",
    "\n",
    "bagging_clf = BaggingClassifier(DecisionTreeClassifier(),\n",
    "                                n_estimators=300,\n",
    "                                max_samples=300,\n",
    "                                bootstrap=True, # using bootstrap sampling method\n",
    "                                oob_score=True, # use oob data for scoring\n",
    "                                # n_jobs=-1 # use paralell computing\n",
    "                               )\n",
    "bagging_clf.fit(X,y)\n",
    "```\n",
    "\n",
    "- Compare the performances of two  methods, and select different parameters for model  and evaluate the model using bias and variance\n",
    "\n",
    "\n"
   ]
  },
  {
   "cell_type": "code",
   "execution_count": 95,
   "id": "9c3b3006",
   "metadata": {},
   "outputs": [],
   "source": [
    "########### Write Your Code Here ###########\n",
    "\n",
    "############################################"
   ]
  },
  {
   "cell_type": "markdown",
   "metadata": {},
   "source": [
    "### Other ensemble learning\n",
    "For classification, we have many models to choose . Please don't just pick a model to train and say it's good enough. We need to select models based on some metrics, such as choosing models with low bias and low variance.\n",
    "\n",
    "In this part, you are required  to use `AdaBoost` and `Gradient boosting`.Compare their performances with decision tree and random forest, and finally select the best model  and the optimal  parameters for iris classification.\n",
    "\n",
    "\n"
   ]
  },
  {
   "cell_type": "code",
   "execution_count": 96,
   "id": "cd238229",
   "metadata": {},
   "outputs": [],
   "source": [
    "########### Write Your Code Here ###########\n",
    "\n",
    "############################################"
   ]
  },
  {
   "cell_type": "markdown",
   "id": "c4ada32b",
   "metadata": {},
   "source": [
    "\n",
    "<font size=4>Hint: About how to select models and parameters:</font>\n",
    "- Select model using cross validation. Compare the scores in the training set and the validation set. If they are good enough, use the model in the test set.\n",
    "- Calculate the bias and variance of each model to further analyze your chosen model.\n",
    "- Select parameters using cross validation\n",
    "  \n",
    "### Questions:\n",
    "(1) Can decision trees and random forests be used for unsupervised clustering or data dimension reduction? Why?\n",
    "\n",
    "(2) What are the strengths of the decision tree/random forest methods; when do they perform well?\n",
    "\n",
    "(3) What are the weaknesses of the decision tree/random forest methods; when do they perform poorly?\n",
    "\n",
    "(4) What makes the decision tree/random forest a good candidate for the classification/regression problem, if you have enough knowledge about the data?"
   ]
  },
  {
   "cell_type": "markdown",
   "id": "9e916b74",
   "metadata": {},
   "source": [
    "## Conclusion\n",
    "- Decision trees are prone to overfitting, but random forest algorithm prevents overfitting.\n",
    "- Random forest algorithm is comparatively time-consuming, whereas decision tree algorithm gives fast results.\n",
    "- There are many arguments for either base decision trees or the whole ensemble algorithm.  A good ensemble algorithm should make sure that base ones are both accurate and diversified.  So it is better to get a set of good enough base tree parameters before training the ensemble learning algorithm. "
   ]
  },
  {
   "cell_type": "markdown",
   "id": "f1c0c458",
   "metadata": {},
   "source": [
    "## References\n",
    "https://scikit-learn.org/stable/"
   ]
  }
 ],
 "metadata": {
  "kernelspec": {
   "display_name": "Python 3 (ipykernel)",
   "language": "python",
   "name": "python3"
  },
  "language_info": {
   "codemirror_mode": {
    "name": "ipython",
    "version": 3
   },
   "file_extension": ".py",
   "mimetype": "text/x-python",
   "name": "python",
   "nbconvert_exporter": "python",
   "pygments_lexer": "ipython3",
   "version": "3.10.5"
  },
  "toc": {
   "base_numbering": 1,
   "nav_menu": {},
   "number_sections": true,
   "sideBar": true,
   "skip_h1_title": true,
   "title_cell": "Table of Contents",
   "title_sidebar": "Contents",
   "toc_cell": true,
   "toc_position": {
    "height": "calc(100% - 180px)",
    "left": "10px",
    "top": "150px",
    "width": "244.667px"
   },
   "toc_section_display": true,
   "toc_window_display": false
  },
  "vscode": {
   "interpreter": {
    "hash": "773bfaa0e82744962f3138a2d7b2f007250d49f330da41a556809ccbcf17bfbe"
   }
  }
 },
 "nbformat": 4,
 "nbformat_minor": 5
}
