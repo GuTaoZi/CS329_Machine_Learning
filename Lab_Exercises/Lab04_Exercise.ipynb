{
 "cells": [
  {
   "cell_type": "markdown",
   "metadata": {},
   "source": [
    "### Machine Learning Lab04 Exercise: California Housing Analysis\n",
    "\n",
    "Please use the real world dataset, **California housing price**, for model training and evaluate the model’s prediction performance. You can use simple linear regression, polynomial regression or more complicated base functions such as Gaussian function or use regularization methods. Make sure at least **20% data for testing** and choose one evaluation method you think good. **Please do not just train your model and say that is good enough, you need to give your analysis**. For that end, validation or cross validation is needed. Compare the score in the training set and the validation set. If they are both good enough, then use the model on the test set.\n",
    "\n",
    "**Your test set can only be used for final evaluation!**"
   ]
  },
  {
   "cell_type": "markdown",
   "metadata": {},
   "source": [
    "#### Import dataset"
   ]
  },
  {
   "cell_type": "code",
   "execution_count": 14,
   "metadata": {},
   "outputs": [
    {
     "name": "stdout",
     "output_type": "stream",
     "text": [
      ".. _california_housing_dataset:\n",
      "\n",
      "California Housing dataset\n",
      "--------------------------\n",
      "\n",
      "**Data Set Characteristics:**\n",
      "\n",
      "    :Number of Instances: 20640\n",
      "\n",
      "    :Number of Attributes: 8 numeric, predictive attributes and the target\n",
      "\n",
      "    :Attribute Information:\n",
      "        - MedInc        median income in block group\n",
      "        - HouseAge      median house age in block group\n",
      "        - AveRooms      average number of rooms per household\n",
      "        - AveBedrms     average number of bedrooms per household\n",
      "        - Population    block group population\n",
      "        - AveOccup      average number of household members\n",
      "        - Latitude      block group latitude\n",
      "        - Longitude     block group longitude\n",
      "\n",
      "    :Missing Attribute Values: None\n",
      "\n",
      "This dataset was obtained from the StatLib repository.\n",
      "https://www.dcc.fc.up.pt/~ltorgo/Regression/cal_housing.html\n",
      "\n",
      "The target variable is the median house value for California districts,\n",
      "expressed in hundreds of thousands of dollars ($100,000).\n",
      "\n",
      "This dataset was derived from the 1990 U.S. census, using one row per census\n",
      "block group. A block group is the smallest geographical unit for which the U.S.\n",
      "Census Bureau publishes sample data (a block group typically has a population\n",
      "of 600 to 3,000 people).\n",
      "\n",
      "A household is a group of people residing within a home. Since the average\n",
      "number of rooms and bedrooms in this dataset are provided per household, these\n",
      "columns may take surprisingly large values for block groups with few households\n",
      "and many empty houses, such as vacation resorts.\n",
      "\n",
      "It can be downloaded/loaded using the\n",
      ":func:`sklearn.datasets.fetch_california_housing` function.\n",
      "\n",
      ".. topic:: References\n",
      "\n",
      "    - Pace, R. Kelley and Ronald Barry, Sparse Spatial Autoregressions,\n",
      "      Statistics and Probability Letters, 33 (1997) 291-297\n",
      "\n"
     ]
    }
   ],
   "source": [
    "import numpy as np\n",
    "from sklearn.datasets import fetch_california_housing\n",
    "\n",
    "dataset = fetch_california_housing(as_frame=True)\n",
    "print(dataset.DESCR)"
   ]
  },
  {
   "cell_type": "code",
   "execution_count": 15,
   "metadata": {},
   "outputs": [
    {
     "name": "stdout",
     "output_type": "stream",
     "text": [
      "   MedInc  HouseAge  AveRooms  AveBedrms  Population  AveOccup  Latitude  \\\n",
      "0  8.3252      41.0  6.984127   1.023810       322.0  2.555556     37.88   \n",
      "1  8.3014      21.0  6.238137   0.971880      2401.0  2.109842     37.86   \n",
      "2  7.2574      52.0  8.288136   1.073446       496.0  2.802260     37.85   \n",
      "3  5.6431      52.0  5.817352   1.073059       558.0  2.547945     37.85   \n",
      "4  3.8462      52.0  6.281853   1.081081       565.0  2.181467     37.85   \n",
      "\n",
      "   Longitude  MedHouseVal  \n",
      "0    -122.23        4.526  \n",
      "1    -122.22        3.585  \n",
      "2    -122.24        3.521  \n",
      "3    -122.25        3.413  \n",
      "4    -122.25        3.422  \n"
     ]
    }
   ],
   "source": [
    "print(dataset.frame.head())\n",
    "X = dataset.data\n",
    "Y = dataset.target"
   ]
  },
  {
   "cell_type": "markdown",
   "metadata": {},
   "source": [
    "#### Split Training and Testing Set"
   ]
  },
  {
   "cell_type": "code",
   "execution_count": 16,
   "metadata": {},
   "outputs": [
    {
     "name": "stdout",
     "output_type": "stream",
     "text": [
      "Train size:  16512\n",
      "Test size:  4128\n"
     ]
    }
   ],
   "source": [
    "from sklearn.model_selection import train_test_split\n",
    "\n",
    "X_train, X_test, y_train, y_test = train_test_split(\n",
    "    X, Y, test_size=0.2, random_state=42\n",
    ")\n",
    "print(\"Train size: \", X_train.shape[0])\n",
    "print(\"Test size: \", X_test.shape[0])"
   ]
  },
  {
   "cell_type": "markdown",
   "metadata": {},
   "source": [
    "#### Linear Regression Model"
   ]
  },
  {
   "cell_type": "code",
   "execution_count": 17,
   "metadata": {},
   "outputs": [
    {
     "data": {
      "image/png": "[encoded data removed]",
      "text/plain": [
       "<Figure size 400x300 with 1 Axes>"
      ]
     },
     "metadata": {},
     "output_type": "display_data"
    }
   ],
   "source": [
    "import matplotlib.pyplot as plt \n",
    "from sklearn.linear_model import LinearRegression\n",
    "\n",
    "model = LinearRegression()\n",
    "model.fit(X_train, y_train)\n",
    "y_pred = model.predict(X_test)\n",
    "\n",
    "plt.figure(figsize=(4,3))\n",
    "plt.plot(range(len(y_test)),sorted(y_test),c='b',label='Data')\n",
    "plt.plot(range(len(y_pred)),sorted(y_pred),c='r',label='Predict')\n",
    "plt.legend()\n",
    "plt.show()"
   ]
  },
  {
   "cell_type": "markdown",
   "metadata": {},
   "source": [
    "#### Evaluate Model"
   ]
  },
  {
   "cell_type": "code",
   "execution_count": 18,
   "metadata": {},
   "outputs": [
    {
     "name": "stdout",
     "output_type": "stream",
     "text": [
      "MSE of LR:  0.555891598695244\n",
      "R^2 of LR:  0.5757877060324511\n"
     ]
    }
   ],
   "source": [
    "from sklearn.metrics import mean_squared_error\n",
    "\n",
    "print(\"MSE of LR: \", mean_squared_error(y_test, y_pred))\n",
    "print(\"R^2 of LR: \", model.score(X_test, y_test))"
   ]
  },
  {
   "cell_type": "markdown",
   "metadata": {},
   "source": [
    "#### Gaussian Basis Functions"
   ]
  },
  {
   "cell_type": "code",
   "execution_count": 24,
   "metadata": {},
   "outputs": [
    {
     "data": {
      "image/png": "[encoded data removed]",
      "text/plain": [
       "<Figure size 400x300 with 1 Axes>"
      ]
     },
     "metadata": {},
     "output_type": "display_data"
    }
   ],
   "source": [
    "from sklearn.linear_model import Ridge\n",
    "from sklearn.preprocessing import PolynomialFeatures, StandardScaler\n",
    "from sklearn.pipeline import make_pipeline\n",
    "\n",
    "degree = 1  # Adjust the degree as needed\n",
    "alpha = 0.01  # Regularization strength\n",
    "\n",
    "model = make_pipeline(StandardScaler(), PolynomialFeatures(degree), Ridge(alpha=alpha))\n",
    "model.fit(X_train, y_train)\n",
    "y_pred = model.predict(X_test)\n",
    "\n",
    "plt.figure(figsize=(4,3))\n",
    "plt.plot(range(len(y_test)),sorted(y_test),c='b',label='Data')\n",
    "plt.plot(range(len(y_pred)),sorted(y_pred),c='r',label='Predict')\n",
    "plt.legend()\n",
    "plt.show()"
   ]
  },
  {
   "cell_type": "markdown",
   "metadata": {},
   "source": [
    "### 4.3 Questions\n",
    "1) Describe another real-world application where the regression method can be applied\n",
    "2) What are the strengths of the linear/polynomial regression methods; when do they perform well?\n",
    "3) What are the weaknesses of the linear/polynomial regression methods; when do they perform poorly?\n",
    "4) What makes the linear regression method a good candidate for the regression problem, if you have enough knowledge about the data?"
   ]
  },
  {
   "cell_type": "markdown",
   "metadata": {},
   "source": [
    "1) **Real-World Application of Regression**:\n",
    "   Regression methods find applications in various fields. One example is in **Financial Forecasting**, where you can use regression to predict stock prices or financial metrics. By analyzing historical data and relevant features (such as economic indicators, company performance, or market sentiment), you can build regression models to make forecasts about future stock prices or financial trends. These models can help investors make informed decisions about buying or selling stocks.\n",
    "\n",
    "2) **Strengths of Linear/Polynomial Regression**:\n",
    "   - **Interpretability**: Linear regression is straightforward to interpret. You can easily understand the relationship between the independent and dependent variables in terms of coefficients.\n",
    "   - **Simplicity**: Linear and polynomial regression are simple and computationally efficient, making them suitable for quick modeling and analysis.\n",
    "   - **Good for Simple Relationships**: They perform well when the relationship between the dependent and independent variables is approximately linear or can be approximated by a polynomial.\n",
    "   - **Baseline Model**: Linear regression often serves as a good baseline model for more complex algorithms, allowing you to assess the value of adding complexity.\n",
    "\n",
    "3) **Weaknesses of Linear/Polynomial Regression**:\n",
    "   - **Assumption of Linearity**: Linear regression assumes that the relationship between the variables is linear, which may not hold in many real-world scenarios.\n",
    "   - **Overfitting in High-Degree Polynomials**: Polynomial regression can overfit the data when using high-degree polynomials, leading to poor generalization.\n",
    "   - **Limited Expressiveness**: Linear regression may not capture complex, nonlinear relationships that exist in some datasets.\n",
    "   - **Sensitivity to Outliers**: Linear regression can be sensitive to outliers, which can significantly impact the model's performance.\n",
    "\n",
    "4) **When Linear Regression Is a Good Candidate**:\n",
    "   Linear regression is a good candidate for a regression problem when you have enough knowledge about the data and when the relationship between the dependent variable (target) and the independent variables (features) is reasonably linear. Key considerations include:\n",
    "   - **Linearity Assumption**: If you have a clear understanding or evidence that the relationship between the variables is linear, linear regression is a good choice.\n",
    "   - **Interpretability**: When interpretability is essential, linear regression provides easily interpretable coefficients that can be explained in the context of the problem.\n",
    "   - **Quick Prototyping**: Linear regression is a fast way to prototype a regression model and understand the data's behavior.\n",
    "   - **Baseline Model**: It serves as a baseline to compare with more complex models, helping to assess whether added complexity is justified.\n",
    "   \n",
    "   It's important to note that linear regression may not be suitable for all scenarios, especially when the relationship is highly nonlinear or when more complex models are needed to capture the underlying patterns in the data. In such cases, other regression methods, like polynomial regression, decision trees, or neural networks, may be more appropriate."
   ]
  }
 ],
 "metadata": {
  "kernelspec": {
   "display_name": "CS329",
   "language": "python",
   "name": "python3"
  },
  "language_info": {
   "codemirror_mode": {
    "name": "ipython",
    "version": 3
   },
   "file_extension": ".py",
   "mimetype": "text/x-python",
   "name": "python",
   "nbconvert_exporter": "python",
   "pygments_lexer": "ipython3",
   "version": "3.10.13"
  }
 },
 "nbformat": 4,
 "nbformat_minor": 2
}
