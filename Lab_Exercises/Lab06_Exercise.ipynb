{
 "cells": [
  {
   "cell_type": "markdown",
   "metadata": {
    "scrolled": true
   },
   "source": [
    "### Machine Learning Lab06 Exercise: LDA-based Handwritten Number Recognition"
   ]
  },
  {
   "cell_type": "markdown",
   "metadata": {},
   "source": [
    "### Exercise 1 Linear Discriminant Analysis from Scratch using numpy (50 points )\n",
    "- <font size=4> Complete the missing code in the LDA class below<font>"
   ]
  },
  {
   "cell_type": "code",
   "execution_count": 3,
   "metadata": {},
   "outputs": [],
   "source": [
    "import numpy as np\n",
    "import matplotlib.pyplot as plt\n",
    "\n",
    "\n",
    "class LDA:\n",
    "    # n_components:Number of components (<= min(n_classes - 1, n_features)) for dimensionality reduction.\n",
    "    def __init__(self, n_components=None):\n",
    "        self.n_components = n_components\n",
    "        self.eigenvalues = None\n",
    "        self.eigenvectors = None\n",
    "\n",
    "    def fit(self, X, y):\n",
    "        if self.n_components is None or self.n_components > X.shape[1]:\n",
    "            n_components = X.shape[1]\n",
    "        else:\n",
    "            n_components = self.n_components\n",
    "\n",
    "        n_features = np.shape(X)[1]\n",
    "        labels = np.unique(y)\n",
    "\n",
    "        u_k = np.array([np.mean(X[y == label], axis=0) for label in labels])\n",
    "\n",
    "        # Calculate within-class scatter matrix S_W\n",
    "        S_W = np.zeros((n_features, n_features))\n",
    "        for label in labels:\n",
    "            class_data = X[y == label]\n",
    "            diff = class_data - u_k[label]\n",
    "            S_W += diff @ diff.T\n",
    "\n",
    "        # Calculate between-class scatter matrix S_B\n",
    "        u = np.mean(X, axis=0)\n",
    "        S_B = np.zeros((n_features, n_features))\n",
    "        for label in labels:\n",
    "            n = class_data.shape[0]\n",
    "            diff = u_k[label] - u\n",
    "            S_B += n * (diff @ diff.T)\n",
    "\n",
    "        # Calculate SW^-1 * SB\n",
    "        S_W_inv = np.linalg.inv(S_W)\n",
    "        SW_SB = np.dot(S_W_inv, S_B)\n",
    "\n",
    "        # Get eigenvalues and eigenvectors of SW^-1 * SB\n",
    "        eigenvalues, eigenvectors = np.linalg.eig(SW_SB)\n",
    "\n",
    "        # Sort the eigenvalues and corresponding eigenvectors\n",
    "        idx = eigenvalues.argsort()[::-1]\n",
    "        eigenvalues = eigenvalues[idx][:n_components]\n",
    "        eigenvectors = eigenvectors[:, idx][:, :n_components]\n",
    "\n",
    "        self.eigenvalues = eigenvalues\n",
    "        self.eigenvectors = eigenvectors\n",
    "\n",
    "    def fit_transform(self, X):\n",
    "        if self.eigenvectors is not None:\n",
    "            return X @ self.eigenvectors\n",
    "        else:\n",
    "            raise ValueError(\"You must call fit() before fit_transform()\")\n",
    "\n",
    "    def transform(self, X):\n",
    "        if self.eigenvectors is not None:\n",
    "            return X @ self.eigenvectors\n",
    "        else:\n",
    "            raise ValueError(\"You must call fit() before transform()\")"
   ]
  },
  {
   "cell_type": "markdown",
   "metadata": {},
   "source": [
    "- <font size=4> Dimensionality reduction visualization<font>"
   ]
  },
  {
   "cell_type": "code",
   "execution_count": 4,
   "metadata": {},
   "outputs": [
    {
     "ename": "ValueError",
     "evalue": "operands could not be broadcast together with shapes (4,4) (50,50) (4,4) ",
     "output_type": "error",
     "traceback": [
      "\u001b[1;31m---------------------------------------------------------------------------\u001b[0m",
      "\u001b[1;31mValueError\u001b[0m                                Traceback (most recent call last)",
      "\u001b[1;32me:\\CS329_Machine_Learning\\CS329_Machine_Learning\\Lab_Exercises\\Lab06_Exercise.ipynb 单元格 5\u001b[0m line \u001b[0;36m1\n\u001b[0;32m     <a href='vscode-notebook-cell:/e%3A/CS329_Machine_Learning/CS329_Machine_Learning/Lab_Exercises/Lab06_Exercise.ipynb#W4sZmlsZQ%3D%3D?line=9'>10</a>\u001b[0m y \u001b[39m=\u001b[39m iris\u001b[39m.\u001b[39mtarget\n\u001b[0;32m     <a href='vscode-notebook-cell:/e%3A/CS329_Machine_Learning/CS329_Machine_Learning/Lab_Exercises/Lab06_Exercise.ipynb#W4sZmlsZQ%3D%3D?line=10'>11</a>\u001b[0m pca \u001b[39m=\u001b[39m LDA(n_components\u001b[39m=\u001b[39m\u001b[39m3\u001b[39m)\n\u001b[1;32m---> <a href='vscode-notebook-cell:/e%3A/CS329_Machine_Learning/CS329_Machine_Learning/Lab_Exercises/Lab06_Exercise.ipynb#W4sZmlsZQ%3D%3D?line=11'>12</a>\u001b[0m pca\u001b[39m.\u001b[39;49mfit(X, y)\n\u001b[0;32m     <a href='vscode-notebook-cell:/e%3A/CS329_Machine_Learning/CS329_Machine_Learning/Lab_Exercises/Lab06_Exercise.ipynb#W4sZmlsZQ%3D%3D?line=12'>13</a>\u001b[0m X \u001b[39m=\u001b[39m pca\u001b[39m.\u001b[39mtransform(X)\n\u001b[0;32m     <a href='vscode-notebook-cell:/e%3A/CS329_Machine_Learning/CS329_Machine_Learning/Lab_Exercises/Lab06_Exercise.ipynb#W4sZmlsZQ%3D%3D?line=14'>15</a>\u001b[0m fig \u001b[39m=\u001b[39m plt\u001b[39m.\u001b[39mfigure(\u001b[39m1\u001b[39m, figsize\u001b[39m=\u001b[39m(\u001b[39m4\u001b[39m, \u001b[39m3\u001b[39m))\n",
      "\u001b[1;32me:\\CS329_Machine_Learning\\CS329_Machine_Learning\\Lab_Exercises\\Lab06_Exercise.ipynb 单元格 5\u001b[0m line \u001b[0;36m2\n\u001b[0;32m     <a href='vscode-notebook-cell:/e%3A/CS329_Machine_Learning/CS329_Machine_Learning/Lab_Exercises/Lab06_Exercise.ipynb#W4sZmlsZQ%3D%3D?line=25'>26</a>\u001b[0m     class_data \u001b[39m=\u001b[39m X[y \u001b[39m==\u001b[39m label]\n\u001b[0;32m     <a href='vscode-notebook-cell:/e%3A/CS329_Machine_Learning/CS329_Machine_Learning/Lab_Exercises/Lab06_Exercise.ipynb#W4sZmlsZQ%3D%3D?line=26'>27</a>\u001b[0m     diff \u001b[39m=\u001b[39m class_data \u001b[39m-\u001b[39m u_k[label]\n\u001b[1;32m---> <a href='vscode-notebook-cell:/e%3A/CS329_Machine_Learning/CS329_Machine_Learning/Lab_Exercises/Lab06_Exercise.ipynb#W4sZmlsZQ%3D%3D?line=27'>28</a>\u001b[0m     S_W \u001b[39m+\u001b[39m\u001b[39m=\u001b[39m diff \u001b[39m@\u001b[39m diff\u001b[39m.\u001b[39mT\n\u001b[0;32m     <a href='vscode-notebook-cell:/e%3A/CS329_Machine_Learning/CS329_Machine_Learning/Lab_Exercises/Lab06_Exercise.ipynb#W4sZmlsZQ%3D%3D?line=29'>30</a>\u001b[0m \u001b[39m# Calculate between-class scatter matrix S_B\u001b[39;00m\n\u001b[0;32m     <a href='vscode-notebook-cell:/e%3A/CS329_Machine_Learning/CS329_Machine_Learning/Lab_Exercises/Lab06_Exercise.ipynb#W4sZmlsZQ%3D%3D?line=30'>31</a>\u001b[0m u \u001b[39m=\u001b[39m np\u001b[39m.\u001b[39mmean(X, axis\u001b[39m=\u001b[39m\u001b[39m0\u001b[39m)\n",
      "\u001b[1;31mValueError\u001b[0m: operands could not be broadcast together with shapes (4,4) (50,50) (4,4) "
     ]
    }
   ],
   "source": [
    "import matplotlib.pyplot as plt\n",
    "from mpl_toolkits.mplot3d import Axes3D\n",
    "from sklearn import datasets\n",
    "\n",
    "np.random.seed(5)\n",
    "\n",
    "\n",
    "iris = datasets.load_iris()\n",
    "X = iris.data\n",
    "y = iris.target\n",
    "pca = LDA(n_components=3)\n",
    "pca.fit(X, y)\n",
    "X = pca.transform(X)\n",
    "\n",
    "fig = plt.figure(1, figsize=(4, 3))\n",
    "ax = fig.add_subplot(111, projection=\"3d\", elev=48, azim=134)\n",
    "ax.set_position([0, 0, 0.95, 1])\n",
    "for name, label in [('Setosa', 0), ('Versicolour', 1), ('Virginica', 2)]:    \n",
    "    ax.text3D(\n",
    "        X[y == label, 0].mean(),\n",
    "        X[y == label, 1].mean(),\n",
    "        X[y == label, 2].mean() + 2,\n",
    "        name,\n",
    "        horizontalalignment=\"center\",\n",
    "        bbox=dict(alpha=0.5, edgecolor=\"w\", facecolor=\"w\"),\n",
    "    )\n",
    "# Reorder the labels to have colors matching the cluster results\n",
    "y = np.choose(y, [1, 2, 0]).astype(float)\n",
    "ax.scatter(X[:, 0], X[:, 1], X[:, 2], c=y, \n",
    "        edgecolor='k')\n",
    "\n",
    "ax.w_xaxis.set_ticklabels([])\n",
    "ax.w_yaxis.set_ticklabels([])\n",
    "ax.w_zaxis.set_ticklabels([])\n",
    "\n",
    "ax.set_xlabel(\"Petal width\")\n",
    "ax.set_ylabel(\"Sepal length\")\n",
    "ax.set_zlabel(\"Petal length\")\n",
    "# ax.set_title(\"Ground Truth\")\n",
    "ax.dist = 12\n",
    "\n",
    "plt.show()"
   ]
  },
  {
   "cell_type": "markdown",
   "metadata": {},
   "source": [
    "### Exercise 2 Recognize handwritten numbers with LDA (50 points ). \n",
    "\n",
    "Your task in this section is to recognize handwritten numbers, and you can use the linear discriminant analysis model from the Scikit-Learn library to fit, evaluate, and predict them.\n",
    "\n",
    "<font color='red' size=4>Note that your accuracy in this section will directly determine your score.</font>"
   ]
  },
  {
   "cell_type": "markdown",
   "metadata": {},
   "source": [
    "### Loading the MNIST Dataset\n"
   ]
  },
  {
   "cell_type": "code",
   "execution_count": null,
   "metadata": {},
   "outputs": [],
   "source": [
    "########### Write Your Code Here ###########\n",
    "\n",
    "############################################"
   ]
  },
  {
   "cell_type": "markdown",
   "metadata": {},
   "source": [
    "###  Visualization of MINIST"
   ]
  },
  {
   "cell_type": "code",
   "execution_count": null,
   "metadata": {},
   "outputs": [],
   "source": [
    "# Visualize MINIST\n",
    "########### Write Your Code Here ###########\n",
    "\n",
    "############################################"
   ]
  },
  {
   "cell_type": "markdown",
   "metadata": {},
   "source": [
    "### Fit  Model"
   ]
  },
  {
   "cell_type": "code",
   "execution_count": 2,
   "metadata": {},
   "outputs": [],
   "source": [
    "########### Write Your Code Here ###########\n",
    "\n",
    "############################################"
   ]
  },
  {
   "cell_type": "markdown",
   "metadata": {},
   "source": [
    "## Evaluate model"
   ]
  },
  {
   "cell_type": "code",
   "execution_count": 3,
   "metadata": {
    "tags": []
   },
   "outputs": [],
   "source": [
    "########### Write Your Code Here ###########\n",
    "\n",
    "############################################\n"
   ]
  },
  {
   "cell_type": "markdown",
   "metadata": {},
   "source": [
    "### Exercise 3: Qustions\n",
    "- Q1:What are the advantages and disadvantages of LDA?\n"
   ]
  },
  {
   "cell_type": "markdown",
   "metadata": {},
   "source": [
    "- Q2 LDA can be used for dimensionality reduction, so can PCA. Please tell the difference between them?"
   ]
  }
 ],
 "metadata": {
  "kernelspec": {
   "display_name": "Python 3 (ipykernel)",
   "language": "python",
   "name": "python3"
  },
  "language_info": {
   "codemirror_mode": {
    "name": "ipython",
    "version": 3
   },
   "file_extension": ".py",
   "mimetype": "text/x-python",
   "name": "python",
   "nbconvert_exporter": "python",
   "pygments_lexer": "ipython3",
   "version": "3.10.13"
  },
  "vscode": {
   "interpreter": {
    "hash": "773bfaa0e82744962f3138a2d7b2f007250d49f330da41a556809ccbcf17bfbe"
   }
  }
 },
 "nbformat": 4,
 "nbformat_minor": 4
}
