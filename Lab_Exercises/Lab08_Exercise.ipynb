{
 "cells": [
  {
   "cell_type": "markdown",
   "metadata": {},
   "source": [
    "### Machine Learning Lab08 Exercise: CNN-based Image Classifier for CIFAR10 Dataset"
   ]
  },
  {
   "cell_type": "markdown",
   "metadata": {},
   "source": [
    "#### 1. Import packages and device"
   ]
  },
  {
   "cell_type": "code",
   "execution_count": 3,
   "metadata": {},
   "outputs": [],
   "source": [
    "import torch\n",
    "import torchvision\n",
    "import torchvision.transforms as transforms\n",
    "import torch.nn as nn\n",
    "import torch.nn.functional as F\n",
    "import torch.optim as optim\n",
    "\n",
    "device = torch.device(\"cuda:0\" if torch.cuda.is_available() else \"cpu\")"
   ]
  },
  {
   "cell_type": "markdown",
   "metadata": {},
   "source": [
    "#### 2. Import data"
   ]
  },
  {
   "cell_type": "code",
   "execution_count": 15,
   "metadata": {},
   "outputs": [
    {
     "name": "stdout",
     "output_type": "stream",
     "text": [
      "Files already downloaded and verified\n",
      "Files already downloaded and verified\n"
     ]
    }
   ],
   "source": [
    "transform = transforms.Compose(\n",
    "    [transforms.ToTensor(),\n",
    "     transforms.Normalize((0.5, 0.5, 0.5), (0.5, 0.5, 0.5))])\n",
    "\n",
    "batch_size = 4\n",
    "\n",
    "trainset = torchvision.datasets.CIFAR10(root='./CIFAR10_dataset', train=True,\n",
    "                                        download=True, transform=transform)\n",
    "trainloader = torch.utils.data.DataLoader(trainset, batch_size=batch_size,\n",
    "                                          shuffle=True, num_workers=2)\n",
    "\n",
    "testset = torchvision.datasets.CIFAR10(root='./CIFAR10_dataset', train=False,\n",
    "                                       download=True, transform=transform)\n",
    "testloader = torch.utils.data.DataLoader(testset, batch_size=batch_size,\n",
    "                                         shuffle=False, num_workers=2)\n",
    "\n",
    "classes = ('plane', 'car', 'bird', 'cat',\n",
    "           'deer', 'dog', 'frog', 'horse', 'ship', 'truck')"
   ]
  },
  {
   "cell_type": "markdown",
   "metadata": {},
   "source": [
    "#### 3. Design CNN layers"
   ]
  },
  {
   "cell_type": "code",
   "execution_count": 7,
   "metadata": {},
   "outputs": [],
   "source": [
    "# class Net(nn.Module):\n",
    "#     def __init__(self):\n",
    "#         super().__init__()\n",
    "#         self.conv1 = nn.Conv2d(3, 9, 5)\n",
    "#         self.pool = nn.MaxPool2d(2, 2)\n",
    "#         self.conv2 = nn.Conv2d(9, 36, 5)\n",
    "\n",
    "#         self.fc1 = nn.Linear(36 * 5 * 5, 120)\n",
    "#         self.fc2 = nn.Linear(120, 84)\n",
    "#         self.fc3 = nn.Linear(84, 10)\n",
    "\n",
    "#     def forward(self, x):\n",
    "#         x = self.pool(F.relu(self.conv1(x)))\n",
    "#         x = self.pool(F.relu(self.conv2(x)))\n",
    "#         x = torch.flatten(x, 1)\n",
    "#         x = F.relu(self.fc1(x))\n",
    "#         x = F.relu(self.fc2(x))\n",
    "#         x = self.fc3(x)\n",
    "#         return x\n",
    "\n",
    "\n",
    "class Net(torch.nn.Module):\n",
    "    def __init__(self):\n",
    "        super().__init__()\n",
    "        self.conv1 = torch.nn.Conv2d(\n",
    "            in_channels=3, out_channels=64, kernel_size=5, stride=1, padding=0\n",
    "        )\n",
    "        self.pool = torch.nn.MaxPool2d(kernel_size=3, stride=2)\n",
    "        self.conv2 = torch.nn.Conv2d(64, 64, 5)\n",
    "        self.fc1 = torch.nn.Linear(64 * 4 * 4, 384)\n",
    "        self.fc2 = torch.nn.Linear(384, 192)\n",
    "        self.fc3 = torch.nn.Linear(192, 10)\n",
    "\n",
    "    def forward(self, x):\n",
    "        x = self.pool(F.relu(self.conv1(x)))\n",
    "        x = self.pool(F.relu(self.conv2(x)))\n",
    "        x = x.view(-1, 64 * 4 * 4)\n",
    "        x = F.relu(self.fc1(x))\n",
    "        x = F.relu(self.fc2(x))\n",
    "        x = self.fc3(x)\n",
    "        return x\n",
    "\n",
    "\n",
    "net = Net().to(device=device)"
   ]
  },
  {
   "cell_type": "markdown",
   "metadata": {},
   "source": [
    "#### 4. CNN Training"
   ]
  },
  {
   "cell_type": "code",
   "execution_count": 18,
   "metadata": {},
   "outputs": [
    {
     "name": "stdout",
     "output_type": "stream",
     "text": [
      "[1,  2000] loss: 0.753\n",
      "[1,  4000] loss: 0.740\n",
      "[1,  6000] loss: 0.757\n",
      "[1,  8000] loss: 0.773\n",
      "[1, 10000] loss: 0.807\n",
      "[1, 12000] loss: 0.757\n",
      "[2,  2000] loss: 0.684\n",
      "[2,  4000] loss: 0.730\n",
      "[2,  6000] loss: 0.725\n",
      "[2,  8000] loss: 0.726\n",
      "[2, 10000] loss: 0.739\n",
      "[2, 12000] loss: 0.747\n",
      "[3,  2000] loss: 0.680\n",
      "[3,  4000] loss: 0.682\n",
      "[3,  6000] loss: 0.694\n",
      "[3,  8000] loss: 0.699\n",
      "[3, 10000] loss: 0.688\n",
      "[3, 12000] loss: 0.690\n",
      "[4,  2000] loss: 0.626\n",
      "[4,  4000] loss: 0.662\n",
      "[4,  6000] loss: 0.663\n",
      "[4,  8000] loss: 0.681\n",
      "[4, 10000] loss: 0.691\n",
      "[4, 12000] loss: 0.685\n",
      "[5,  2000] loss: 0.623\n",
      "[5,  4000] loss: 0.628\n",
      "[5,  6000] loss: 0.637\n",
      "[5,  8000] loss: 0.671\n",
      "[5, 10000] loss: 0.662\n",
      "[5, 12000] loss: 0.655\n",
      "[6,  2000] loss: 0.585\n",
      "[6,  4000] loss: 0.611\n",
      "[6,  6000] loss: 0.631\n",
      "[6,  8000] loss: 0.641\n",
      "[6, 10000] loss: 0.654\n",
      "[6, 12000] loss: 0.659\n",
      "[7,  2000] loss: 0.592\n",
      "[7,  4000] loss: 0.604\n",
      "[7,  6000] loss: 0.596\n",
      "[7,  8000] loss: 0.620\n",
      "[7, 10000] loss: 0.617\n",
      "[7, 12000] loss: 0.620\n",
      "[8,  2000] loss: 0.587\n",
      "[8,  4000] loss: 0.569\n",
      "[8,  6000] loss: 0.583\n",
      "[8,  8000] loss: 0.586\n",
      "[8, 10000] loss: 0.613\n",
      "[8, 12000] loss: 0.596\n",
      "[9,  2000] loss: 0.541\n",
      "[9,  4000] loss: 0.577\n",
      "[9,  6000] loss: 0.584\n",
      "[9,  8000] loss: 0.594\n",
      "[9, 10000] loss: 0.600\n",
      "[9, 12000] loss: 0.617\n",
      "[10,  2000] loss: 0.540\n",
      "[10,  4000] loss: 0.545\n",
      "[10,  6000] loss: 0.573\n",
      "[10,  8000] loss: 0.564\n",
      "[10, 10000] loss: 0.581\n",
      "[10, 12000] loss: 0.591\n",
      "[11,  2000] loss: 0.524\n",
      "[11,  4000] loss: 0.553\n",
      "[11,  6000] loss: 0.557\n",
      "[11,  8000] loss: 0.544\n",
      "[11, 10000] loss: 0.584\n",
      "[11, 12000] loss: 0.590\n",
      "[12,  2000] loss: 0.517\n",
      "[12,  4000] loss: 0.537\n",
      "[12,  6000] loss: 0.566\n",
      "[12,  8000] loss: 0.563\n",
      "[12, 10000] loss: 0.561\n",
      "[12, 12000] loss: 0.566\n",
      "[13,  2000] loss: 0.508\n",
      "[13,  4000] loss: 0.540\n",
      "[13,  6000] loss: 0.529\n",
      "[13,  8000] loss: 0.570\n",
      "[13, 10000] loss: 0.573\n",
      "[13, 12000] loss: 0.570\n",
      "[14,  2000] loss: 0.496\n",
      "[14,  4000] loss: 0.528\n",
      "[14,  6000] loss: 0.497\n",
      "[14,  8000] loss: 0.531\n",
      "[14, 10000] loss: 0.569\n",
      "[14, 12000] loss: 0.554\n",
      "[15,  2000] loss: 0.504\n",
      "[15,  4000] loss: 0.526\n",
      "[15,  6000] loss: 0.526\n",
      "[15,  8000] loss: 0.540\n",
      "[15, 10000] loss: 0.555\n",
      "[15, 12000] loss: 0.541\n",
      "[16,  2000] loss: 0.518\n",
      "[16,  4000] loss: 0.514\n",
      "[16,  6000] loss: 0.521\n",
      "[16,  8000] loss: 0.539\n",
      "[16, 10000] loss: 0.536\n",
      "[16, 12000] loss: 0.539\n",
      "Finished Training\n"
     ]
    }
   ],
   "source": [
    "criterion = nn.CrossEntropyLoss()\n",
    "optimizer = optim.SGD(net.parameters(), lr=0.001, momentum=0.9)\n",
    "for epoch in range(16):\n",
    "    running_loss = 0.0\n",
    "    for i, data in enumerate(trainloader, 0):\n",
    "        inputs, labels = data[0].to(device), data[1].to(device)\n",
    "        optimizer.zero_grad()\n",
    "        outputs = net(inputs)\n",
    "        loss = criterion(outputs, labels)\n",
    "        loss.backward()\n",
    "        optimizer.step()\n",
    "        running_loss += loss.item()\n",
    "        if i % 2000 == 1999:\n",
    "            print(f\"[{epoch + 1}, {i + 1:5d}] loss: {running_loss / 2000:.3f}\")\n",
    "            running_loss = 0.0\n",
    "\n",
    "print(\"Finished Training\")"
   ]
  },
  {
   "cell_type": "markdown",
   "metadata": {},
   "source": [
    "#### 5. Model Evaluation"
   ]
  },
  {
   "cell_type": "code",
   "execution_count": 20,
   "metadata": {},
   "outputs": [
    {
     "name": "stdout",
     "output_type": "stream",
     "text": [
      "Accuracy of the network on the 10000 test images: 68 %\n"
     ]
    }
   ],
   "source": [
    "dataiter = iter(testloader)\n",
    "images, labels = next(dataiter)\n",
    "correct = 0\n",
    "total = 0\n",
    "# since we're not training, we don't need to calculate the gradients for our outputs\n",
    "with torch.no_grad():\n",
    "    for data in testloader:\n",
    "        images, labels = data[0].to(device), data[1].to(device)\n",
    "        # calculate outputs by running images through the network\n",
    "        outputs = net(images)\n",
    "        # the class with the highest energy is what we choose as prediction\n",
    "        _, predicted = torch.max(outputs.data, 1)\n",
    "        total += labels.size(0)\n",
    "        correct += (predicted == labels).sum().item()\n",
    "\n",
    "print(f\"Accuracy of the network on the 10000 test images: {100 * correct // total} %\")"
   ]
  },
  {
   "cell_type": "markdown",
   "metadata": {},
   "source": [
    "#### 6. Save & Load CNN Model"
   ]
  },
  {
   "cell_type": "code",
   "execution_count": 16,
   "metadata": {},
   "outputs": [],
   "source": [
    "PATH = './lab08_cifar_net.pth'\n",
    "torch.save(net.state_dict(), PATH)"
   ]
  },
  {
   "cell_type": "code",
   "execution_count": null,
   "metadata": {},
   "outputs": [],
   "source": [
    "net = Net().to(device)\n",
    "net.load_state_dict(torch.load(PATH))"
   ]
  }
 ],
 "metadata": {
  "kernelspec": {
   "display_name": "CS329",
   "language": "python",
   "name": "python3"
  },
  "language_info": {
   "codemirror_mode": {
    "name": "ipython",
    "version": 3
   },
   "file_extension": ".py",
   "mimetype": "text/x-python",
   "name": "python",
   "nbconvert_exporter": "python",
   "pygments_lexer": "ipython3",
   "version": "3.10.13"
  }
 },
 "nbformat": 4,
 "nbformat_minor": 2
}
